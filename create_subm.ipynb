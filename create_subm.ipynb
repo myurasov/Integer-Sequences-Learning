{
 "cells": [
  {
   "cell_type": "code",
   "execution_count": 1,
   "metadata": {
    "collapsed": false
   },
   "outputs": [
    {
     "name": "stderr",
     "output_type": "stream",
     "text": [
      "Using TensorFlow backend.\n"
     ]
    }
   ],
   "source": [
    "import keras\n",
    "import math\n",
    "import pandas as pd\n",
    "from tqdm import tqdm\n",
    "import csv\n",
    "import numpy as np"
   ]
  },
  {
   "cell_type": "code",
   "execution_count": 2,
   "metadata": {
    "collapsed": true
   },
   "outputs": [],
   "source": [
    "SUBM = 'V2.B'\n",
    "MODEL = '/d3/caches/kaggle-integer-seq-v2/models/I.2/...'"
   ]
  },
  {
   "cell_type": "code",
   "execution_count": 3,
   "metadata": {
    "collapsed": true
   },
   "outputs": [],
   "source": [
    "# load stuff\n",
    "dictionary = np.load('out/dictionary@tr=10.npy').item()\n",
    "test_e_seq = np.load('out/test_e_seq@tr=10.npy').item()"
   ]
  },
  {
   "cell_type": "code",
   "execution_count": 4,
   "metadata": {
    "collapsed": true
   },
   "outputs": [],
   "source": [
    "# create reverse dictionary (ix -> word)\n",
    "dic_ix_to_words = {}\n",
    "\n",
    "for w, ix in dictionary.iteritems():\n",
    "    dic_ix_to_words[ix] = w"
   ]
  },
  {
   "cell_type": "code",
   "execution_count": 5,
   "metadata": {
    "collapsed": true
   },
   "outputs": [],
   "source": [
    "X_test = test_e_seq.values()\n",
    "test_ids = test_e_seq.keys()"
   ]
  },
  {
   "cell_type": "code",
   "execution_count": 6,
   "metadata": {
    "collapsed": true
   },
   "outputs": [],
   "source": [
    "batch_size = 320\n",
    "orig_len = len(test_ids)\n",
    "n_iter = int(math.ceil(float(orig_len) / batch_size))"
   ]
  },
  {
   "cell_type": "code",
   "execution_count": 7,
   "metadata": {
    "collapsed": false
   },
   "outputs": [
    {
     "name": "stderr",
     "output_type": "stream",
     "text": [
      "/usr/local/lib/python2.7/dist-packages/tensorflow/python/ops/gradients.py:90: UserWarning: Converting sparse IndexedSlices to a dense Tensor of unknown shape. This may consume a large amount of memory.\n",
      "  \"Converting sparse IndexedSlices to a dense Tensor of unknown shape. \"\n"
     ]
    }
   ],
   "source": [
    "model = keras.models.load_model(MODEL)"
   ]
  },
  {
   "cell_type": "code",
   "execution_count": 8,
   "metadata": {
    "collapsed": false
   },
   "outputs": [
    {
     "name": "stderr",
     "output_type": "stream",
     "text": [
      "100%|██████████| 356/356 [05:18<00:00,  1.20it/s]\n"
     ]
    }
   ],
   "source": [
    "predicted_words = []\n",
    "\n",
    "for i in tqdm(range(n_iter)):\n",
    "    \n",
    "    X_test_batch = X_test[:batch_size]\n",
    "    X_test = X_test[batch_size:]\n",
    "    \n",
    "    test_ids_batch = test_ids[:batch_size]\n",
    "    test_ids = test_ids[batch_size:]\n",
    "\n",
    "    # predict\n",
    "    y_p = model.predict(np.array(X_test_batch, dtype=np.int32))\n",
    "    y_p = np.argmax(y_p, axis=1)\n",
    "    y_p = [dic_ix_to_words[x] for x in y_p]\n",
    "    predicted_words.extend(y_p)"
   ]
  },
  {
   "cell_type": "code",
   "execution_count": 9,
   "metadata": {
    "collapsed": false
   },
   "outputs": [],
   "source": [
    "# save submission\n",
    "res_df = pd.DataFrame({'\"Id\"': test_e_seq.keys(), '\"Last\"': predicted_words})\n",
    "res_df.to_csv('submission-' +  SUBM + '.csv', index=False, quoting=csv.QUOTE_NONE)"
   ]
  }
 ],
 "metadata": {
  "kernelspec": {
   "display_name": "Python 2",
   "language": "python",
   "name": "python2"
  },
  "language_info": {
   "codemirror_mode": {
    "name": "ipython",
    "version": 2
   },
   "file_extension": ".py",
   "mimetype": "text/x-python",
   "name": "python",
   "nbconvert_exporter": "python",
   "pygments_lexer": "ipython2",
   "version": "2.7.6"
  }
 },
 "nbformat": 4,
 "nbformat_minor": 1
}
